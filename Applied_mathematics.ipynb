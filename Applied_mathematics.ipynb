{
  "nbformat": 4,
  "nbformat_minor": 0,
  "metadata": {
    "colab": {
      "name": "Applied_mathematics.ipynb",
      "provenance": [],
      "collapsed_sections": [],
      "authorship_tag": "ABX9TyM6Z6gQO1iSeM2LOkLx50SZ",
      "include_colab_link": true
    },
    "kernelspec": {
      "name": "python3",
      "display_name": "Python 3"
    }
  },
  "cells": [
    {
      "cell_type": "markdown",
      "metadata": {
        "id": "view-in-github",
        "colab_type": "text"
      },
      "source": [
        "<a href=\"https://colab.research.google.com/github/hac80310/devtraining-needit-orlando/blob/master/Applied_mathematics.ipynb\" target=\"_parent\"><img src=\"https://colab.research.google.com/assets/colab-badge.svg\" alt=\"Open In Colab\"/></a>"
      ]
    },
    {
      "cell_type": "markdown",
      "metadata": {
        "id": "7yZzTPd4b1eD"
      },
      "source": [
        "# 第１章:線形代数\n"
      ]
    },
    {
      "cell_type": "markdown",
      "metadata": {
        "id": "6jZbplUDPyVt"
      },
      "source": [
        "# 行列\n",
        "\n",
        "-  スカラーを表にしたもの\n",
        "-  ベクトルを並べたもの\n",
        " ⇒なんに使うのか\n",
        "  * ベクトルの変換\n",
        "  * 連立方程式を解く"
      ]
    },
    {
      "cell_type": "markdown",
      "metadata": {
        "id": "MXXKz3F-VNhb"
      },
      "source": [
        "# 連立方程式を行列を使って記述\n",
        "\n",
        "$$\n",
        "\\begin{cases}\n",
        "  x_1 + 2x_2 = 3 \\\\\n",
        "  2x_1 + 5x_2 = 5 \\\\\n",
        "\\end{cases}\n",
        "$$"
      ]
    },
    {
      "cell_type": "markdown",
      "metadata": {
        "id": "pwyT-sEzT5C1"
      },
      "source": [
        "　　　　　　　　　　　　　　　　　　　　　　　　　　　　　　　　　　↓\n",
        "\n",
        "$$\n",
        "\\left ( \\begin{array}{cc}\n",
        "  1 & 2 \\\\\n",
        "  2 & 5 \\\\\n",
        "\\end{array} \\right) \n",
        "\\left ( \\begin{array}{c}\n",
        "  x_1 \\\\\n",
        "  x_2 \\\\\n",
        "\\end{array} \\right) \n",
        "=\\left ( \\begin{array}{c}\n",
        "  3 \\\\\n",
        "  5 \\\\\n",
        "\\end{array} \\right) \n",
        "$$　\n"
      ]
    },
    {
      "cell_type": "markdown",
      "metadata": {
        "id": "oUW1Yxv-qlYT"
      },
      "source": [
        "# 連立１次方程式の解き方\n",
        "\n",
        "* 行基本変形で解ける\n",
        "  - 一般に次の３つの操作になる\n",
        "    -  i行目をC倍する\n",
        "    - s行目にt行目のc倍を加える\n",
        "    - p行目とq行目を入れ替える"
      ]
    }
  ]
}